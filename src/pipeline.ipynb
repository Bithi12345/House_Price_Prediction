{
 "cells": [
  {
   "cell_type": "code",
   "execution_count": 2,
   "id": "5bcb9b60",
   "metadata": {},
   "outputs": [
    {
     "name": "stdout",
     "output_type": "stream",
     "text": [
      "Pipeline(steps=[('preprocessor',\n",
      "                 ColumnTransformer(remainder='passthrough',\n",
      "                                   transformers=[('num',\n",
      "                                                  Pipeline(steps=[('imputer',\n",
      "                                                                   SimpleImputer(strategy='median')),\n",
      "                                                                  ('scaler',\n",
      "                                                                   StandardScaler())]),\n",
      "                                                  ['No. Beds', 'No. Baths',\n",
      "                                                   'Area'])])),\n",
      "                ('regressor', RandomForestRegressor(random_state=42))])\n",
      "Trained pipeline saved to: C:\\House_Price_Prediction\\src\\models\\random_forest_pipeline.joblib\n"
     ]
    }
   ],
   "source": [
    "import pandas as pd\n",
    "import numpy as np\n",
    "from sklearn.model_selection import train_test_split\n",
    "from sklearn.pipeline import Pipeline\n",
    "from sklearn.preprocessing import StandardScaler, LabelEncoder\n",
    "from sklearn.impute import SimpleImputer\n",
    "from sklearn.ensemble import RandomForestRegressor\n",
    "from sklearn.compose import ColumnTransformer\n",
    "import joblib\n",
    "\n",
    "# Load data\n",
    "df = pd.read_csv('C:\\\\House_Price_Prediction\\\\data\\\\Bangladesh_property_prices.csv')\n",
    "\n",
    "# Drop unnecessary columns\n",
    "df.drop(columns=[\"Unnamed: 0.1\", \"Unnamed: 0\", \"Location\"], inplace=True)\n",
    "\n",
    "# Handle missing values\n",
    "df.fillna({\n",
    "    \"No. Beds\": df[\"No. Beds\"].median(),\n",
    "    \"No. Baths\": df[\"No. Baths\"].median()\n",
    "}, inplace=True)\n",
    "df.dropna(inplace=True)\n",
    "\n",
    "# Feature Engineering\n",
    "df['Price_per_sqft'] = df['Price'] / df['Area']\n",
    "df['Beds_Baths_Ratio'] = df['No. Beds'] / df['No. Baths']\n",
    "bins = [0, 1000, 2000, 3000, float('inf')]\n",
    "labels = ['Small', 'Medium', 'Large', 'Very Large']\n",
    "df['Area_Category'] = pd.cut(df['Area'], bins=bins, labels=labels, right=False)\n",
    "df['Log_Price'] = np.log1p(df['Price'])\n",
    "\n",
    "# Label Encoding\n",
    "label_encoders = {}\n",
    "for col in ['Type', 'Region', 'Sub-region', 'Area_Category']:\n",
    "    le = LabelEncoder()\n",
    "    df[col + '_n'] = le.fit_transform(df[col])\n",
    "    label_encoders[col] = le\n",
    "\n",
    "# Final dataset\n",
    "final_df = df[['Price', 'No. Beds', 'No. Baths', 'Area', 'Type_n', 'Region_n', 'Sub-region_n']]\n",
    "\n",
    "# Features and target\n",
    "X = final_df.drop(\"Price\", axis=1)\n",
    "y = final_df[\"Price\"]\n",
    "\n",
    "# Split dataset\n",
    "X_train, X_test, y_train, y_test = train_test_split(X, y, test_size=0.2, random_state=42)\n",
    "\n",
    "# Build preprocessing and model pipeline\n",
    "numeric_features = ['No. Beds', 'No. Baths', 'Area']\n",
    "numeric_transformer = Pipeline(steps=[\n",
    "    ('imputer', SimpleImputer(strategy='median')),\n",
    "    ('scaler', StandardScaler())\n",
    "])\n",
    "\n",
    "preprocessor = ColumnTransformer(\n",
    "    transformers=[\n",
    "        ('num', numeric_transformer, numeric_features)\n",
    "    ],\n",
    "    remainder='passthrough'  # Leave encoded categorical values as-is\n",
    ")\n",
    "\n",
    "pipeline = Pipeline(steps=[\n",
    "    ('preprocessor', preprocessor),\n",
    "    ('regressor', RandomForestRegressor(random_state=42))\n",
    "])\n",
    "\n",
    "print(pipeline)\n",
    "\n",
    "# Train model\n",
    "pipeline.fit(X_train, y_train)\n",
    "\n",
    "model_path = 'C:\\\\House_Price_Prediction\\\\src\\\\models\\\\random_forest_pipeline.joblib'\n",
    "joblib.dump(pipeline, model_path)\n",
    "print(f\"Trained pipeline saved to: {model_path}\")\n"
   ]
  },
  {
   "cell_type": "code",
   "execution_count": 3,
   "id": "9cd0850c",
   "metadata": {},
   "outputs": [
    {
     "name": "stdout",
     "output_type": "stream",
     "text": [
      "Evaluation Metrics:\n",
      "MAE: 1550900.36\n",
      "MSE: 15619632405293.62\n",
      "R^2 Score: 0.8296\n"
     ]
    }
   ],
   "source": [
    "from sklearn.metrics import mean_absolute_error, mean_squared_error, r2_score\n",
    "\n",
    "# Train the pipeline\n",
    "pipeline.fit(X_train, y_train)\n",
    "\n",
    "# Evaluate the model\n",
    "y_pred = pipeline.predict(X_test)\n",
    "print(\"Evaluation Metrics:\")\n",
    "print(f\"MAE: {mean_absolute_error(y_test, y_pred):.2f}\")\n",
    "print(f\"MSE: {mean_squared_error(y_test, y_pred):.2f}\")\n",
    "print(f\"R^2 Score: {r2_score(y_test, y_pred):.4f}\")\n"
   ]
  }
 ],
 "metadata": {
  "kernelspec": {
   "display_name": "Python 3",
   "language": "python",
   "name": "python3"
  },
  "language_info": {
   "codemirror_mode": {
    "name": "ipython",
    "version": 3
   },
   "file_extension": ".py",
   "mimetype": "text/x-python",
   "name": "python",
   "nbconvert_exporter": "python",
   "pygments_lexer": "ipython3",
   "version": "3.12.1"
  }
 },
 "nbformat": 4,
 "nbformat_minor": 5
}
